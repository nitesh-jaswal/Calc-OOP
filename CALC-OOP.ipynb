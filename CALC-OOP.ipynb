{
 "cells": [
  {
   "cell_type": "code",
   "execution_count": null,
   "metadata": {},
   "outputs": [],
   "source": [
    "\n",
    "class calculator():\n",
    "    def __init__(self, x, y):\n",
    "        self.x = x \n",
    "        self.y = y\n",
    "\n",
    "    def add(self):\n",
    "        print(\"Sum :\", self.x + self.y)\n",
    "\n",
    "    def subtraction(self):\n",
    "        print(\"Subtraction :\", self.x-self.y)\n",
    "\n",
    "    def multiplication(self):\n",
    "        print(\"Multiplication:\", self.x*self.y)\n",
    "\n",
    "    def division(self):\n",
    "        print(\"Division:\", self.x/self.y)\n",
    "\n",
    "\n",
    "x = int(input(\"Enter X:\"))\n",
    "y = int(input(\"Enter y:\"))\n",
    "\n",
    "n1 = calculator(x,y)\n",
    "\n",
    "\n",
    "choice = 1 \n",
    "while choice != 0:\n",
    "    print(\"1. ADD\")\n",
    "    print(\"2. SUB\")\n",
    "    print(\"3. Multiplication\")\n",
    "    print(\"4. Division\")\n",
    "\n",
    "    choice = int(input(\"Enter your choice:\"))\n",
    "\n",
    "    if choice == 1:\n",
    "        print(n1.add())\n",
    "    elif choice == 2:\n",
    "        print(n1.subtraction())\n",
    "    elif choice == 3:\n",
    "        print(n1.multiplication())\n",
    "    elif choice == 4:\n",
    "        print(n1.division())\n",
    "    else:\n",
    "        print(\"Invalid choice\")\n",
    "\n",
    "# n1.add()\n",
    "# n1.subtraction()\n",
    "# n1.multiplication()\n",
    "# n1.division()\n"
   ]
  }
 ],
 "metadata": {
  "kernelspec": {
   "display_name": "Python 3.8.3 ('base')",
   "language": "python",
   "name": "python3"
  },
  "language_info": {
   "name": "python",
   "version": "3.8.3"
  },
  "orig_nbformat": 4,
  "vscode": {
   "interpreter": {
    "hash": "e630ef856855a599d04040559963bb1f28250df25e2cf86219bcb20717486968"
   }
  }
 },
 "nbformat": 4,
 "nbformat_minor": 2
}
